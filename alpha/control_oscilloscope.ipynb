{
 "cells": [
  {
   "cell_type": "code",
   "execution_count": 1,
   "metadata": {},
   "outputs": [],
   "source": [
    "from xml.sax import default_parser_list\n",
    "import numpy as np\n",
    "import sys\n",
    "import pyvisa as visa\n",
    "from matplotlib import pyplot as plt\n",
    "import argparse\n",
    "import time\n",
    "from tqdm import tqdm"
   ]
  },
  {
   "cell_type": "code",
   "execution_count": 2,
   "metadata": {},
   "outputs": [
    {
     "name": "stderr",
     "output_type": "stream",
     "text": [
      "100%|██████████| 10/10 [00:11<00:00,  1.17s/it]"
     ]
    },
    {
     "name": "stdout",
     "output_type": "stream",
     "text": [
      "10 reads took 11.730870246887207 s\n"
     ]
    },
    {
     "name": "stderr",
     "output_type": "stream",
     "text": [
      "\n"
     ]
    }
   ],
   "source": [
    "st = time.time()\n",
    "\n",
    "for i in tqdm(range(10)):\n",
    "    rm = visa.ResourceManager()\n",
    "\n",
    "    scope = rm.open_resource('USB0::6833::1303::DS1ZE231705963::0::INSTR', timeout=2000, chunk_size=1024000)\n",
    "\n",
    "    vmin = float(scope.query(\":MEAS:VMIN?\").strip())\n",
    "    vmax = float(scope.query(\":MEAS:VMAX?\"))\n",
    "    # print(vmin, vmax)\n",
    "    rm.close()\n",
    "    scope.close()\n",
    "\n",
    "print(f'10 reads took {time.time()-st} s')"
   ]
  },
  {
   "cell_type": "code",
   "execution_count": 29,
   "metadata": {},
   "outputs": [],
   "source": [
    "rm.close()\n",
    "scope.close()"
   ]
  },
  {
   "cell_type": "code",
   "execution_count": 31,
   "metadata": {},
   "outputs": [
    {
     "ename": "NameError",
     "evalue": "name 'scope_address' is not defined",
     "output_type": "error",
     "traceback": [
      "\u001b[0;31m---------------------------------------------------------------------------\u001b[0m",
      "\u001b[0;31mNameError\u001b[0m                                 Traceback (most recent call last)",
      "\u001b[0;32m<ipython-input-31-de5b03005668>\u001b[0m in \u001b[0;36m<module>\u001b[0;34m()\u001b[0m\n\u001b[0;32m----> 1\u001b[0;31m \u001b[0mscope\u001b[0m \u001b[0;34m=\u001b[0m \u001b[0mrm\u001b[0m\u001b[0;34m.\u001b[0m\u001b[0mopen_resource\u001b[0m\u001b[0;34m(\u001b[0m\u001b[0mscope_address\u001b[0m\u001b[0;34m,\u001b[0m \u001b[0mtimeout\u001b[0m\u001b[0;34m=\u001b[0m\u001b[0;36m2000\u001b[0m\u001b[0;34m,\u001b[0m \u001b[0mchunk_size\u001b[0m\u001b[0;34m=\u001b[0m\u001b[0;36m1024000\u001b[0m\u001b[0;34m)\u001b[0m\u001b[0;34m\u001b[0m\u001b[0;34m\u001b[0m\u001b[0m\n\u001b[0m\u001b[1;32m      2\u001b[0m \u001b[0mvmin\u001b[0m \u001b[0;34m=\u001b[0m \u001b[0mfloat\u001b[0m\u001b[0;34m(\u001b[0m\u001b[0mscope\u001b[0m\u001b[0;34m.\u001b[0m\u001b[0mquery\u001b[0m\u001b[0;34m(\u001b[0m\u001b[0;34m\":MEAS:VMIN?\"\u001b[0m\u001b[0;34m)\u001b[0m\u001b[0;34m.\u001b[0m\u001b[0mstrip\u001b[0m\u001b[0;34m(\u001b[0m\u001b[0;34m)\u001b[0m\u001b[0;34m)\u001b[0m\u001b[0;34m\u001b[0m\u001b[0;34m\u001b[0m\u001b[0m\n\u001b[1;32m      3\u001b[0m \u001b[0mvmax\u001b[0m \u001b[0;34m=\u001b[0m \u001b[0mfloat\u001b[0m\u001b[0;34m(\u001b[0m\u001b[0mscope\u001b[0m\u001b[0;34m.\u001b[0m\u001b[0mquery\u001b[0m\u001b[0;34m(\u001b[0m\u001b[0;34m\":MEAS:VMAX?\"\u001b[0m\u001b[0;34m)\u001b[0m\u001b[0;34m)\u001b[0m\u001b[0;34m\u001b[0m\u001b[0;34m\u001b[0m\u001b[0m\n\u001b[1;32m      4\u001b[0m \u001b[0mprint\u001b[0m\u001b[0;34m(\u001b[0m\u001b[0mvmin\u001b[0m\u001b[0;34m,\u001b[0m \u001b[0mvmax\u001b[0m\u001b[0;34m)\u001b[0m\u001b[0;34m\u001b[0m\u001b[0;34m\u001b[0m\u001b[0m\n\u001b[1;32m      5\u001b[0m \u001b[0mrm\u001b[0m\u001b[0;34m.\u001b[0m\u001b[0mclose\u001b[0m\u001b[0;34m(\u001b[0m\u001b[0;34m)\u001b[0m\u001b[0;34m\u001b[0m\u001b[0;34m\u001b[0m\u001b[0m\n",
      "\u001b[0;31mNameError\u001b[0m: name 'scope_address' is not defined"
     ]
    }
   ],
   "source": [
    "scope_address = \"USB0::6833::1303::DS1ZE231705963::0::INSTR\"\n",
    "scope = rm.open_resource(scope_address, timeout=2000, chunk_size=1024000)\n",
    "vmin = float(scope.query(\":MEAS:VMIN?\").strip())\n",
    "vmax = float(scope.query(\":MEAS:VMAX?\"))\n",
    "print(vmin, vmax)\n",
    "rm.close()\n",
    "scope.close()\n",
    "print(vmin, vmax)"
   ]
  },
  {
   "cell_type": "code",
   "execution_count": 1,
   "metadata": {},
   "outputs": [],
   "source": [
    "import pyvisa as visa\n",
    "import sys\n",
    "import time\n",
    "# Make the pyvisa resource manager\n",
    "rm = visa.ResourceManager()\n",
    "# Get the USB device, e.g. 'USB0::0x1AB1::0x0588::DS1ED141904883'\n",
    "instruments = rm.list_resources()\n",
    "\n",
    "usb = list(filter(lambda x: 'USB' in x, instruments))\n",
    "\n",
    "# Appears that the one with \"DM\" in it is the multimeter\n",
    "mm_address = \"\"\n",
    "for address in usb :\n",
    "    if \"DM\" in address :\n",
    "        mm_address = address\n",
    "if not mm_address :\n",
    "    print(\"Did not find a multimeter!\")\n",
    "    exit(1)\n"
   ]
  },
  {
   "cell_type": "code",
   "execution_count": 8,
   "metadata": {},
   "outputs": [
    {
     "data": {
      "text/plain": [
       "6"
      ]
     },
     "execution_count": 8,
     "metadata": {},
     "output_type": "execute_result"
    }
   ],
   "source": [
    "mm_address\n",
    "\n",
    "rm.close()\n",
    "rm = visa.ResourceManager()\n",
    "\n",
    "meter = rm.open_resource(mm_address, timeout=2000, chunk_size=1024000) # bigger timeout for long mem\n",
    "\n",
    "# Clear\n",
    "meter.write(\"*RST\")\n",
    "# time.sleep(3)\n",
    "# # print(meter.query('*IDN?'))\n",
    "\n",
    "# # Looking for DC voltage\n",
    "# meter.write(\":function:voltage:DC\")\n",
    "# voltage = meter.query(\":MEAS:VOLT:DC?\")\n",
    "\n",
    "# # print('voltage = ', voltage)\n",
    "\n",
    "# # Release meter for next call\n",
    "# rm.close()\n",
    "# meter.close()\n"
   ]
  },
  {
   "cell_type": "code",
   "execution_count": 10,
   "metadata": {},
   "outputs": [
    {
     "data": {
      "text/plain": [
       "22"
      ]
     },
     "execution_count": 10,
     "metadata": {},
     "output_type": "execute_result"
    }
   ],
   "source": [
    "meter.write(\":function:voltage:DC\")\n"
   ]
  },
  {
   "cell_type": "code",
   "execution_count": 19,
   "metadata": {},
   "outputs": [],
   "source": [
    "import matplotlib.pyplot as plt\n",
    "import numpy as np\n",
    "from tqdm import tqdm\n",
    "from scripts.ReadMM import getMMVoltage\n",
    "from scripts.ScopeTraceCapture import getScopeReading\n",
    "from scripts.ControlVacuum import controlVacuum\n",
    "from scripts.TriggerPulseDetection import countTriggers\n",
    "# from scripts.ReadScopeVoltage import getVoltage\n",
    "import time\n",
    "from datetime import datetime\n",
    "\n",
    "from xml.sax import default_parser_list\n",
    "import numpy as np\n",
    "import sys\n",
    "import pyvisa as visa\n",
    "from matplotlib import pyplot as plt\n",
    "import argparse\n",
    "import time\n",
    "\n",
    "import time\n",
    "import json\n",
    "def getVoltage(triggerLevel=None):\n",
    "    # Make the pyvisa resource manager\n",
    "    rm = visa.ResourceManager()\n",
    "    # Get the USB device, e.g. 'USB0::0x1AB1::0x0588::DS1ED141904883'\n",
    "    instruments = rm.list_resources()\n",
    "    usbs = list(filter(lambda x: 'USB' in x, instruments))\n",
    "    # print(usbs)\n",
    "    scope_address = \"\"\n",
    "    for address in usbs :\n",
    "        if \"::DS\" in address :\n",
    "            scope_address = address\n",
    "    if not scope_address :\n",
    "        print(\"Could not find address of scope!\")\n",
    "        exit(1)\n",
    "\n",
    "    # print(\"Will open instrument\",scope_address)\n",
    "\n",
    "    scope = rm.open_resource(scope_address, timeout=2000, chunk_size=1024000)\n",
    "\n",
    "    if triggerLevel:\n",
    "        scope.write(\":TRIG:EDG:LEV {0}\".format(triggerLevel))\n",
    "        \n",
    "    vmin = float(scope.query(\":MEAS:VMIN?\").strip())\n",
    "    vmax = float(scope.query(\":MEAS:VMAX?\"))\n",
    "    rm.close()\n",
    "    scope.close()\n",
    "    return vmin, vmax"
   ]
  },
  {
   "cell_type": "code",
   "execution_count": 28,
   "metadata": {},
   "outputs": [
    {
     "data": {
      "text/plain": [
       "(-2.68, 1.4)"
      ]
     },
     "execution_count": 28,
     "metadata": {},
     "output_type": "execute_result"
    }
   ],
   "source": [
    "getVoltage(triggerLevel=0.5)"
   ]
  },
  {
   "cell_type": "code",
   "execution_count": 24,
   "metadata": {},
   "outputs": [
    {
     "name": "stdout",
     "output_type": "stream",
     "text": [
      "counting number of triggers in 1 seconds\n"
     ]
    },
    {
     "data": {
      "text/plain": [
       "122"
      ]
     },
     "execution_count": 24,
     "metadata": {},
     "output_type": "execute_result"
    }
   ],
   "source": [
    "countTriggers(1)"
   ]
  },
  {
   "cell_type": "code",
   "execution_count": null,
   "metadata": {},
   "outputs": [],
   "source": []
  }
 ],
 "metadata": {
  "kernelspec": {
   "display_name": "Python 3.7.3 32-bit",
   "language": "python",
   "name": "python3"
  },
  "language_info": {
   "codemirror_mode": {
    "name": "ipython",
    "version": 3
   },
   "file_extension": ".py",
   "mimetype": "text/x-python",
   "name": "python",
   "nbconvert_exporter": "python",
   "pygments_lexer": "ipython3",
   "version": "3.7.3"
  },
  "orig_nbformat": 4,
  "vscode": {
   "interpreter": {
    "hash": "31f2aee4e71d21fbe5cf8b01ff0e069b9275f58929596ceb00d14d90e3e16cd6"
   }
  }
 },
 "nbformat": 4,
 "nbformat_minor": 2
}
